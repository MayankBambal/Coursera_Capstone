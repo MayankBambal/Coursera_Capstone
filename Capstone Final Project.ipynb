{
 "cells": [
  {
   "cell_type": "code",
   "execution_count": 6,
   "metadata": {},
   "outputs": [
    {
     "name": "stdout",
     "output_type": "stream",
     "text": [
      "Requirement already satisfied: geocoder in c:\\programdata\\anaconda3\\lib\\site-packages\n",
      "Requirement already satisfied: click in c:\\programdata\\anaconda3\\lib\\site-packages (from geocoder)\n",
      "Requirement already satisfied: ratelim in c:\\programdata\\anaconda3\\lib\\site-packages (from geocoder)\n",
      "Requirement already satisfied: requests in c:\\programdata\\anaconda3\\lib\\site-packages (from geocoder)\n",
      "Requirement already satisfied: six in c:\\programdata\\anaconda3\\lib\\site-packages (from geocoder)\n",
      "Requirement already satisfied: future in c:\\programdata\\anaconda3\\lib\\site-packages (from geocoder)\n",
      "Requirement already satisfied: decorator in c:\\programdata\\anaconda3\\lib\\site-packages (from ratelim->geocoder)\n",
      "Requirement already satisfied: chardet<3.1.0,>=3.0.2 in c:\\programdata\\anaconda3\\lib\\site-packages (from requests->geocoder)\n",
      "Requirement already satisfied: idna<2.7,>=2.5 in c:\\programdata\\anaconda3\\lib\\site-packages (from requests->geocoder)\n",
      "Requirement already satisfied: urllib3<1.23,>=1.21.1 in c:\\programdata\\anaconda3\\lib\\site-packages (from requests->geocoder)\n",
      "Requirement already satisfied: certifi>=2017.4.17 in c:\\programdata\\anaconda3\\lib\\site-packages (from requests->geocoder)\n"
     ]
    },
    {
     "name": "stderr",
     "output_type": "stream",
     "text": [
      "You are using pip version 9.0.1, however version 20.2.1 is available.\n",
      "You should consider upgrading via the 'python -m pip install --upgrade pip' command.\n"
     ]
    },
    {
     "name": "stdout",
     "output_type": "stream",
     "text": [
      "Requirement already satisfied: folium in c:\\programdata\\anaconda3\\lib\\site-packages\n",
      "Requirement already satisfied: branca in c:\\programdata\\anaconda3\\lib\\site-packages (from folium)\n",
      "Requirement already satisfied: jinja2 in c:\\programdata\\anaconda3\\lib\\site-packages (from folium)\n",
      "Requirement already satisfied: requests in c:\\programdata\\anaconda3\\lib\\site-packages (from folium)\n",
      "Requirement already satisfied: six in c:\\programdata\\anaconda3\\lib\\site-packages (from folium)\n",
      "Requirement already satisfied: MarkupSafe>=0.23 in c:\\programdata\\anaconda3\\lib\\site-packages (from jinja2->folium)\n",
      "Requirement already satisfied: chardet<3.1.0,>=3.0.2 in c:\\programdata\\anaconda3\\lib\\site-packages (from requests->folium)\n",
      "Requirement already satisfied: idna<2.7,>=2.5 in c:\\programdata\\anaconda3\\lib\\site-packages (from requests->folium)\n",
      "Requirement already satisfied: urllib3<1.23,>=1.21.1 in c:\\programdata\\anaconda3\\lib\\site-packages (from requests->folium)\n",
      "Requirement already satisfied: certifi>=2017.4.17 in c:\\programdata\\anaconda3\\lib\\site-packages (from requests->folium)\n"
     ]
    },
    {
     "name": "stderr",
     "output_type": "stream",
     "text": [
      "You are using pip version 9.0.1, however version 20.2.1 is available.\n",
      "You should consider upgrading via the 'python -m pip install --upgrade pip' command.\n"
     ]
    }
   ],
   "source": [
    "!pip install geocoder\n",
    "!pip install folium"
   ]
  },
  {
   "cell_type": "code",
   "execution_count": 7,
   "metadata": {},
   "outputs": [
    {
     "name": "stdout",
     "output_type": "stream",
     "text": [
      "All Required Libraries Imported!\n"
     ]
    }
   ],
   "source": [
    "import pandas as pd\n",
    "import requests\n",
    "import numpy as np\n",
    "import geocoder\n",
    "import folium\n",
    "import requests \n",
    "import matplotlib.cm as cm\n",
    "import matplotlib.colors as colors\n",
    "import json\n",
    "import xml\n",
    "import matplotlib.pyplot as plt\n",
    "%matplotlib inline\n",
    "import warnings\n",
    "warnings.filterwarnings(\"ignore\")\n",
    "\n",
    "from pandas.io.json import json_normalize \n",
    "from sklearn.cluster import KMeans\n",
    "from geopy.geocoders import Nominatim \n",
    "from bs4 import BeautifulSoup\n",
    "\n",
    "pd.set_option('display.max_columns', None)\n",
    "pd.set_option('display.max_rows', None)\n",
    "\n",
    "print(\"All Required Libraries Imported!\")"
   ]
  },
  {
   "cell_type": "code",
   "execution_count": 8,
   "metadata": {},
   "outputs": [],
   "source": [
    "url = \"https://en.wikipedia.org/wiki/List_of_postal_codes_of_Canada:_M\"\n",
    "extracting_data = requests.get(url).text\n",
    "wiki_data = BeautifulSoup(extracting_data, 'lxml')"
   ]
  },
  {
   "cell_type": "code",
   "execution_count": 9,
   "metadata": {},
   "outputs": [],
   "source": [
    "column_names = ['Postalcode','Borough','Neighborhood']\n",
    "toronto = pd.DataFrame(columns = column_names)\n",
    "\n",
    "content = wiki_data.find('div', class_='mw-parser-output')\n",
    "table = content.table.tbody\n",
    "postcode = 0\n",
    "borough = 0\n",
    "neighborhood = 0\n",
    "\n",
    "for tr in table.find_all('tr'):\n",
    "    i = 0\n",
    "    for td in tr.find_all('td'):\n",
    "        if i == 0:\n",
    "            postcode = td.text\n",
    "            i = i + 1\n",
    "        elif i == 1:\n",
    "            borough = td.text\n",
    "            i = i + 1\n",
    "        elif i == 2: \n",
    "            neighborhood = td.text.strip('\\n').replace(']','')\n",
    "    toronto = toronto.append({'Postalcode': postcode,'Borough': borough,'Neighborhood': neighborhood},ignore_index=True)"
   ]
  },
  {
   "cell_type": "code",
   "execution_count": 10,
   "metadata": {},
   "outputs": [],
   "source": [
    "# clean dataframe \n",
    "toronto = toronto[toronto.Borough!='Not assigned']\n",
    "toronto = toronto[toronto.Borough!= 0]\n",
    "toronto.reset_index(drop = True, inplace = True)\n",
    "i = 0\n",
    "for i in range(0,toronto.shape[0]):\n",
    "    if toronto.iloc[i][2] == 'Not assigned':\n",
    "        toronto.iloc[i][2] = toronto.iloc[i][1]\n",
    "        i = i+1"
   ]
  },
  {
   "cell_type": "code",
   "execution_count": 11,
   "metadata": {},
   "outputs": [
    {
     "data": {
      "text/html": [
       "<div>\n",
       "<style scoped>\n",
       "    .dataframe tbody tr th:only-of-type {\n",
       "        vertical-align: middle;\n",
       "    }\n",
       "\n",
       "    .dataframe tbody tr th {\n",
       "        vertical-align: top;\n",
       "    }\n",
       "\n",
       "    .dataframe thead th {\n",
       "        text-align: right;\n",
       "    }\n",
       "</style>\n",
       "<table border=\"1\" class=\"dataframe\">\n",
       "  <thead>\n",
       "    <tr style=\"text-align: right;\">\n",
       "      <th></th>\n",
       "      <th>Postalcode</th>\n",
       "      <th>Borough</th>\n",
       "      <th>Neighborhood</th>\n",
       "    </tr>\n",
       "  </thead>\n",
       "  <tbody>\n",
       "    <tr>\n",
       "      <th>0</th>\n",
       "      <td>M1A\\n</td>\n",
       "      <td>Not assigned\\n</td>\n",
       "      <td>Not assigned\\n</td>\n",
       "    </tr>\n",
       "    <tr>\n",
       "      <th>1</th>\n",
       "      <td>M1B\\n</td>\n",
       "      <td>Scarborough\\n</td>\n",
       "      <td>Malvern, Rouge</td>\n",
       "    </tr>\n",
       "    <tr>\n",
       "      <th>2</th>\n",
       "      <td>M1C\\n</td>\n",
       "      <td>Scarborough\\n</td>\n",
       "      <td>Rouge Hill, Port Union, Highland Creek</td>\n",
       "    </tr>\n",
       "    <tr>\n",
       "      <th>3</th>\n",
       "      <td>M1E\\n</td>\n",
       "      <td>Scarborough\\n</td>\n",
       "      <td>Guildwood, Morningside, West Hill</td>\n",
       "    </tr>\n",
       "    <tr>\n",
       "      <th>4</th>\n",
       "      <td>M1G\\n</td>\n",
       "      <td>Scarborough\\n</td>\n",
       "      <td>Woburn</td>\n",
       "    </tr>\n",
       "  </tbody>\n",
       "</table>\n",
       "</div>"
      ],
      "text/plain": [
       "  Postalcode         Borough                            Neighborhood\n",
       "0      M1A\\n  Not assigned\\n                          Not assigned\\n\n",
       "1      M1B\\n   Scarborough\\n                          Malvern, Rouge\n",
       "2      M1C\\n   Scarborough\\n  Rouge Hill, Port Union, Highland Creek\n",
       "3      M1E\\n   Scarborough\\n       Guildwood, Morningside, West Hill\n",
       "4      M1G\\n   Scarborough\\n                                  Woburn"
      ]
     },
     "execution_count": 11,
     "metadata": {},
     "output_type": "execute_result"
    }
   ],
   "source": [
    "df = toronto.groupby(['Postalcode','Borough'])['Neighborhood'].apply(', '.join).reset_index()\n",
    "df.head()"
   ]
  },
  {
   "cell_type": "code",
   "execution_count": 12,
   "metadata": {},
   "outputs": [
    {
     "data": {
      "text/html": [
       "<div>\n",
       "<style scoped>\n",
       "    .dataframe tbody tr th:only-of-type {\n",
       "        vertical-align: middle;\n",
       "    }\n",
       "\n",
       "    .dataframe tbody tr th {\n",
       "        vertical-align: top;\n",
       "    }\n",
       "\n",
       "    .dataframe thead th {\n",
       "        text-align: right;\n",
       "    }\n",
       "</style>\n",
       "<table border=\"1\" class=\"dataframe\">\n",
       "  <thead>\n",
       "    <tr style=\"text-align: right;\">\n",
       "      <th></th>\n",
       "      <th>Postalcode</th>\n",
       "      <th>Borough</th>\n",
       "      <th>Neighborhood</th>\n",
       "    </tr>\n",
       "  </thead>\n",
       "  <tbody>\n",
       "    <tr>\n",
       "      <th>count</th>\n",
       "      <td>180</td>\n",
       "      <td>180</td>\n",
       "      <td>180</td>\n",
       "    </tr>\n",
       "    <tr>\n",
       "      <th>unique</th>\n",
       "      <td>180</td>\n",
       "      <td>11</td>\n",
       "      <td>100</td>\n",
       "    </tr>\n",
       "    <tr>\n",
       "      <th>top</th>\n",
       "      <td>M1B\\n</td>\n",
       "      <td>Not assigned\\n</td>\n",
       "      <td>Not assigned\\n</td>\n",
       "    </tr>\n",
       "    <tr>\n",
       "      <th>freq</th>\n",
       "      <td>1</td>\n",
       "      <td>77</td>\n",
       "      <td>77</td>\n",
       "    </tr>\n",
       "  </tbody>\n",
       "</table>\n",
       "</div>"
      ],
      "text/plain": [
       "       Postalcode         Borough    Neighborhood\n",
       "count         180             180             180\n",
       "unique        180              11             100\n",
       "top         M1B\\n  Not assigned\\n  Not assigned\\n\n",
       "freq            1              77              77"
      ]
     },
     "execution_count": 12,
     "metadata": {},
     "output_type": "execute_result"
    }
   ],
   "source": [
    "df.describe()"
   ]
  },
  {
   "cell_type": "code",
   "execution_count": 13,
   "metadata": {},
   "outputs": [],
   "source": [
    "df = df.dropna()\n",
    "empty = 'Not assigned'\n",
    "df = df[(df.Postalcode != empty ) & (df.Borough != empty) & (df.Neighborhood != empty)]"
   ]
  },
  {
   "cell_type": "code",
   "execution_count": 14,
   "metadata": {},
   "outputs": [
    {
     "data": {
      "text/html": [
       "<div>\n",
       "<style scoped>\n",
       "    .dataframe tbody tr th:only-of-type {\n",
       "        vertical-align: middle;\n",
       "    }\n",
       "\n",
       "    .dataframe tbody tr th {\n",
       "        vertical-align: top;\n",
       "    }\n",
       "\n",
       "    .dataframe thead th {\n",
       "        text-align: right;\n",
       "    }\n",
       "</style>\n",
       "<table border=\"1\" class=\"dataframe\">\n",
       "  <thead>\n",
       "    <tr style=\"text-align: right;\">\n",
       "      <th></th>\n",
       "      <th>Postalcode</th>\n",
       "      <th>Borough</th>\n",
       "      <th>Neighborhood</th>\n",
       "    </tr>\n",
       "  </thead>\n",
       "  <tbody>\n",
       "    <tr>\n",
       "      <th>0</th>\n",
       "      <td>M1A\\n</td>\n",
       "      <td>Not assigned\\n</td>\n",
       "      <td>Not assigned\\n</td>\n",
       "    </tr>\n",
       "    <tr>\n",
       "      <th>1</th>\n",
       "      <td>M1B\\n</td>\n",
       "      <td>Scarborough\\n</td>\n",
       "      <td>Malvern, Rouge</td>\n",
       "    </tr>\n",
       "    <tr>\n",
       "      <th>2</th>\n",
       "      <td>M1C\\n</td>\n",
       "      <td>Scarborough\\n</td>\n",
       "      <td>Rouge Hill, Port Union, Highland Creek</td>\n",
       "    </tr>\n",
       "    <tr>\n",
       "      <th>3</th>\n",
       "      <td>M1E\\n</td>\n",
       "      <td>Scarborough\\n</td>\n",
       "      <td>Guildwood, Morningside, West Hill</td>\n",
       "    </tr>\n",
       "    <tr>\n",
       "      <th>4</th>\n",
       "      <td>M1G\\n</td>\n",
       "      <td>Scarborough\\n</td>\n",
       "      <td>Woburn</td>\n",
       "    </tr>\n",
       "  </tbody>\n",
       "</table>\n",
       "</div>"
      ],
      "text/plain": [
       "  Postalcode         Borough                            Neighborhood\n",
       "0      M1A\\n  Not assigned\\n                          Not assigned\\n\n",
       "1      M1B\\n   Scarborough\\n                          Malvern, Rouge\n",
       "2      M1C\\n   Scarborough\\n  Rouge Hill, Port Union, Highland Creek\n",
       "3      M1E\\n   Scarborough\\n       Guildwood, Morningside, West Hill\n",
       "4      M1G\\n   Scarborough\\n                                  Woburn"
      ]
     },
     "execution_count": 14,
     "metadata": {},
     "output_type": "execute_result"
    }
   ],
   "source": [
    "df.head()"
   ]
  },
  {
   "cell_type": "code",
   "execution_count": 15,
   "metadata": {},
   "outputs": [],
   "source": [
    "def neighborhood_list(grouped):    \n",
    "    return ', '.join(sorted(grouped['Neighborhood'].tolist()))\n",
    "                    \n",
    "grp = df.groupby(['Postalcode', 'Borough'])\n",
    "df_2 = grp.apply(neighborhood_list).reset_index(name='Neighborhood')"
   ]
  },
  {
   "cell_type": "code",
   "execution_count": 16,
   "metadata": {},
   "outputs": [
    {
     "data": {
      "text/html": [
       "<div>\n",
       "<style scoped>\n",
       "    .dataframe tbody tr th:only-of-type {\n",
       "        vertical-align: middle;\n",
       "    }\n",
       "\n",
       "    .dataframe tbody tr th {\n",
       "        vertical-align: top;\n",
       "    }\n",
       "\n",
       "    .dataframe thead th {\n",
       "        text-align: right;\n",
       "    }\n",
       "</style>\n",
       "<table border=\"1\" class=\"dataframe\">\n",
       "  <thead>\n",
       "    <tr style=\"text-align: right;\">\n",
       "      <th></th>\n",
       "      <th>Postalcode</th>\n",
       "      <th>Borough</th>\n",
       "      <th>Neighborhood</th>\n",
       "    </tr>\n",
       "  </thead>\n",
       "  <tbody>\n",
       "    <tr>\n",
       "      <th>count</th>\n",
       "      <td>180</td>\n",
       "      <td>180</td>\n",
       "      <td>180</td>\n",
       "    </tr>\n",
       "    <tr>\n",
       "      <th>unique</th>\n",
       "      <td>180</td>\n",
       "      <td>11</td>\n",
       "      <td>100</td>\n",
       "    </tr>\n",
       "    <tr>\n",
       "      <th>top</th>\n",
       "      <td>M1B\\n</td>\n",
       "      <td>Not assigned\\n</td>\n",
       "      <td>Not assigned\\n</td>\n",
       "    </tr>\n",
       "    <tr>\n",
       "      <th>freq</th>\n",
       "      <td>1</td>\n",
       "      <td>77</td>\n",
       "      <td>77</td>\n",
       "    </tr>\n",
       "  </tbody>\n",
       "</table>\n",
       "</div>"
      ],
      "text/plain": [
       "       Postalcode         Borough    Neighborhood\n",
       "count         180             180             180\n",
       "unique        180              11             100\n",
       "top         M1B\\n  Not assigned\\n  Not assigned\\n\n",
       "freq            1              77              77"
      ]
     },
     "execution_count": 16,
     "metadata": {},
     "output_type": "execute_result"
    }
   ],
   "source": [
    "df_2.describe()"
   ]
  },
  {
   "cell_type": "code",
   "execution_count": 17,
   "metadata": {},
   "outputs": [
    {
     "name": "stdout",
     "output_type": "stream",
     "text": [
      "(180, 3)\n"
     ]
    },
    {
     "data": {
      "text/html": [
       "<div>\n",
       "<style scoped>\n",
       "    .dataframe tbody tr th:only-of-type {\n",
       "        vertical-align: middle;\n",
       "    }\n",
       "\n",
       "    .dataframe tbody tr th {\n",
       "        vertical-align: top;\n",
       "    }\n",
       "\n",
       "    .dataframe thead th {\n",
       "        text-align: right;\n",
       "    }\n",
       "</style>\n",
       "<table border=\"1\" class=\"dataframe\">\n",
       "  <thead>\n",
       "    <tr style=\"text-align: right;\">\n",
       "      <th></th>\n",
       "      <th>Postalcode</th>\n",
       "      <th>Borough</th>\n",
       "      <th>Neighborhood</th>\n",
       "    </tr>\n",
       "  </thead>\n",
       "  <tbody>\n",
       "    <tr>\n",
       "      <th>0</th>\n",
       "      <td>M1A\\n</td>\n",
       "      <td>Not assigned\\n</td>\n",
       "      <td>Not assigned\\n</td>\n",
       "    </tr>\n",
       "    <tr>\n",
       "      <th>1</th>\n",
       "      <td>M1B\\n</td>\n",
       "      <td>Scarborough\\n</td>\n",
       "      <td>Malvern, Rouge</td>\n",
       "    </tr>\n",
       "    <tr>\n",
       "      <th>2</th>\n",
       "      <td>M1C\\n</td>\n",
       "      <td>Scarborough\\n</td>\n",
       "      <td>Rouge Hill, Port Union, Highland Creek</td>\n",
       "    </tr>\n",
       "    <tr>\n",
       "      <th>3</th>\n",
       "      <td>M1E\\n</td>\n",
       "      <td>Scarborough\\n</td>\n",
       "      <td>Guildwood, Morningside, West Hill</td>\n",
       "    </tr>\n",
       "    <tr>\n",
       "      <th>4</th>\n",
       "      <td>M1G\\n</td>\n",
       "      <td>Scarborough\\n</td>\n",
       "      <td>Woburn</td>\n",
       "    </tr>\n",
       "  </tbody>\n",
       "</table>\n",
       "</div>"
      ],
      "text/plain": [
       "  Postalcode         Borough                            Neighborhood\n",
       "0      M1A\\n  Not assigned\\n                          Not assigned\\n\n",
       "1      M1B\\n   Scarborough\\n                          Malvern, Rouge\n",
       "2      M1C\\n   Scarborough\\n  Rouge Hill, Port Union, Highland Creek\n",
       "3      M1E\\n   Scarborough\\n       Guildwood, Morningside, West Hill\n",
       "4      M1G\\n   Scarborough\\n                                  Woburn"
      ]
     },
     "execution_count": 17,
     "metadata": {},
     "output_type": "execute_result"
    }
   ],
   "source": [
    "print(df_2.shape)\n",
    "df_2.head()"
   ]
  },
  {
   "cell_type": "code",
   "execution_count": 20,
   "metadata": {},
   "outputs": [
    {
     "data": {
      "text/plain": [
       "[43.70909000000006, -79.36409999999995]"
      ]
     },
     "execution_count": 20,
     "metadata": {},
     "output_type": "execute_result"
    }
   ],
   "source": [
    "def get_latilong(postal_code):\n",
    "    lati_long_coords = None\n",
    "    while(lati_long_coords is None):\n",
    "        g = geocoder.arcgis('{}, Toronto, Ontario'.format(postal_code))\n",
    "        lati_long_coords = g.latlng\n",
    "    return lati_long_coords\n",
    "    \n",
    "get_latilong('M4G')"
   ]
  },
  {
   "cell_type": "code",
   "execution_count": 21,
   "metadata": {},
   "outputs": [],
   "source": [
    "# Retrieving Postal Code Co-ordinates\n",
    "postal_codes = df_2['Postalcode']    \n",
    "coords = [ get_latilong(postal_code) for postal_code in postal_codes.tolist() ]"
   ]
  },
  {
   "cell_type": "code",
   "execution_count": 22,
   "metadata": {},
   "outputs": [],
   "source": [
    "# Adding Columns Latitude & Longitude\n",
    "df_coords = pd.DataFrame(coords, columns=['Latitude', 'Longitude'])\n",
    "df_2['Latitude'] = df_coords['Latitude']\n",
    "df_2['Longitude'] = df_coords['Longitude']"
   ]
  },
  {
   "cell_type": "code",
   "execution_count": 23,
   "metadata": {},
   "outputs": [
    {
     "data": {
      "text/html": [
       "<div>\n",
       "<style scoped>\n",
       "    .dataframe tbody tr th:only-of-type {\n",
       "        vertical-align: middle;\n",
       "    }\n",
       "\n",
       "    .dataframe tbody tr th {\n",
       "        vertical-align: top;\n",
       "    }\n",
       "\n",
       "    .dataframe thead th {\n",
       "        text-align: right;\n",
       "    }\n",
       "</style>\n",
       "<table border=\"1\" class=\"dataframe\">\n",
       "  <thead>\n",
       "    <tr style=\"text-align: right;\">\n",
       "      <th></th>\n",
       "      <th>Postalcode</th>\n",
       "      <th>Borough</th>\n",
       "      <th>Neighborhood</th>\n",
       "      <th>Latitude</th>\n",
       "      <th>Longitude</th>\n",
       "    </tr>\n",
       "  </thead>\n",
       "  <tbody>\n",
       "  </tbody>\n",
       "</table>\n",
       "</div>"
      ],
      "text/plain": [
       "Empty DataFrame\n",
       "Columns: [Postalcode, Borough, Neighborhood, Latitude, Longitude]\n",
       "Index: []"
      ]
     },
     "execution_count": 23,
     "metadata": {},
     "output_type": "execute_result"
    }
   ],
   "source": [
    "df_2[df_2.Postalcode == 'M5G']"
   ]
  },
  {
   "cell_type": "code",
   "execution_count": 24,
   "metadata": {},
   "outputs": [
    {
     "data": {
      "text/html": [
       "<div>\n",
       "<style scoped>\n",
       "    .dataframe tbody tr th:only-of-type {\n",
       "        vertical-align: middle;\n",
       "    }\n",
       "\n",
       "    .dataframe tbody tr th {\n",
       "        vertical-align: top;\n",
       "    }\n",
       "\n",
       "    .dataframe thead th {\n",
       "        text-align: right;\n",
       "    }\n",
       "</style>\n",
       "<table border=\"1\" class=\"dataframe\">\n",
       "  <thead>\n",
       "    <tr style=\"text-align: right;\">\n",
       "      <th></th>\n",
       "      <th>Postalcode</th>\n",
       "      <th>Borough</th>\n",
       "      <th>Neighborhood</th>\n",
       "      <th>Latitude</th>\n",
       "      <th>Longitude</th>\n",
       "    </tr>\n",
       "  </thead>\n",
       "  <tbody>\n",
       "    <tr>\n",
       "      <th>0</th>\n",
       "      <td>M1A\\n</td>\n",
       "      <td>Not assigned\\n</td>\n",
       "      <td>Not assigned\\n</td>\n",
       "      <td>43.64869</td>\n",
       "      <td>-79.38544</td>\n",
       "    </tr>\n",
       "    <tr>\n",
       "      <th>1</th>\n",
       "      <td>M1B\\n</td>\n",
       "      <td>Scarborough\\n</td>\n",
       "      <td>Malvern, Rouge</td>\n",
       "      <td>43.81153</td>\n",
       "      <td>-79.19552</td>\n",
       "    </tr>\n",
       "    <tr>\n",
       "      <th>2</th>\n",
       "      <td>M1C\\n</td>\n",
       "      <td>Scarborough\\n</td>\n",
       "      <td>Rouge Hill, Port Union, Highland Creek</td>\n",
       "      <td>43.78564</td>\n",
       "      <td>-79.15871</td>\n",
       "    </tr>\n",
       "    <tr>\n",
       "      <th>3</th>\n",
       "      <td>M1E\\n</td>\n",
       "      <td>Scarborough\\n</td>\n",
       "      <td>Guildwood, Morningside, West Hill</td>\n",
       "      <td>43.76575</td>\n",
       "      <td>-79.17520</td>\n",
       "    </tr>\n",
       "    <tr>\n",
       "      <th>4</th>\n",
       "      <td>M1G\\n</td>\n",
       "      <td>Scarborough\\n</td>\n",
       "      <td>Woburn</td>\n",
       "      <td>43.76820</td>\n",
       "      <td>-79.21761</td>\n",
       "    </tr>\n",
       "    <tr>\n",
       "      <th>5</th>\n",
       "      <td>M1H\\n</td>\n",
       "      <td>Scarborough\\n</td>\n",
       "      <td>Cedarbrae</td>\n",
       "      <td>43.76969</td>\n",
       "      <td>-79.23944</td>\n",
       "    </tr>\n",
       "    <tr>\n",
       "      <th>6</th>\n",
       "      <td>M1J\\n</td>\n",
       "      <td>Scarborough\\n</td>\n",
       "      <td>Scarborough Village</td>\n",
       "      <td>43.74309</td>\n",
       "      <td>-79.23526</td>\n",
       "    </tr>\n",
       "    <tr>\n",
       "      <th>7</th>\n",
       "      <td>M1K\\n</td>\n",
       "      <td>Scarborough\\n</td>\n",
       "      <td>Kennedy Park, Ionview, East Birchmount Park</td>\n",
       "      <td>43.72861</td>\n",
       "      <td>-79.26367</td>\n",
       "    </tr>\n",
       "    <tr>\n",
       "      <th>8</th>\n",
       "      <td>M1L\\n</td>\n",
       "      <td>Scarborough\\n</td>\n",
       "      <td>Golden Mile, Clairlea, Oakridge</td>\n",
       "      <td>43.71406</td>\n",
       "      <td>-79.28412</td>\n",
       "    </tr>\n",
       "    <tr>\n",
       "      <th>9</th>\n",
       "      <td>M1M\\n</td>\n",
       "      <td>Scarborough\\n</td>\n",
       "      <td>Cliffside, Cliffcrest, Scarborough Village West</td>\n",
       "      <td>43.72360</td>\n",
       "      <td>-79.23496</td>\n",
       "    </tr>\n",
       "  </tbody>\n",
       "</table>\n",
       "</div>"
      ],
      "text/plain": [
       "  Postalcode         Borough                                     Neighborhood  \\\n",
       "0      M1A\\n  Not assigned\\n                                   Not assigned\\n   \n",
       "1      M1B\\n   Scarborough\\n                                   Malvern, Rouge   \n",
       "2      M1C\\n   Scarborough\\n           Rouge Hill, Port Union, Highland Creek   \n",
       "3      M1E\\n   Scarborough\\n                Guildwood, Morningside, West Hill   \n",
       "4      M1G\\n   Scarborough\\n                                           Woburn   \n",
       "5      M1H\\n   Scarborough\\n                                        Cedarbrae   \n",
       "6      M1J\\n   Scarborough\\n                              Scarborough Village   \n",
       "7      M1K\\n   Scarborough\\n      Kennedy Park, Ionview, East Birchmount Park   \n",
       "8      M1L\\n   Scarborough\\n                  Golden Mile, Clairlea, Oakridge   \n",
       "9      M1M\\n   Scarborough\\n  Cliffside, Cliffcrest, Scarborough Village West   \n",
       "\n",
       "   Latitude  Longitude  \n",
       "0  43.64869  -79.38544  \n",
       "1  43.81153  -79.19552  \n",
       "2  43.78564  -79.15871  \n",
       "3  43.76575  -79.17520  \n",
       "4  43.76820  -79.21761  \n",
       "5  43.76969  -79.23944  \n",
       "6  43.74309  -79.23526  \n",
       "7  43.72861  -79.26367  \n",
       "8  43.71406  -79.28412  \n",
       "9  43.72360  -79.23496  "
      ]
     },
     "execution_count": 24,
     "metadata": {},
     "output_type": "execute_result"
    }
   ],
   "source": [
    "df_2.head(10)"
   ]
  },
  {
   "cell_type": "code",
   "execution_count": 26,
   "metadata": {},
   "outputs": [
    {
     "name": "stdout",
     "output_type": "stream",
     "text": [
      "The Geograpical Co-ordinate of Seattle,Washington are 43.773077, -79.257774.\n"
     ]
    }
   ],
   "source": [
    "address = 'Scarborough,Toronto'\n",
    "\n",
    "geolocator = Nominatim(user_agent=\"toronto_explorer\")\n",
    "location = geolocator.geocode(address)\n",
    "latitude_x = location.latitude\n",
    "longitude_y = location.longitude\n",
    "print('The Geograpical Co-ordinate of Seattle,Washington are {}, {}.'.format(latitude_x, longitude_y))"
   ]
  },
  {
   "cell_type": "code",
   "execution_count": 27,
   "metadata": {},
   "outputs": [
    {
     "data": {
      "text/html": [
       "<div style=\"width:100%;\"><div style=\"position:relative;width:100%;height:0;padding-bottom:60%;\"><span style=\"color:#565656\">Make this Notebook Trusted to load map: File -> Trust Notebook</span><iframe src=\"about:blank\" style=\"position:absolute;width:100%;height:100%;left:0;top:0;border:none !important;\" data-html=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 onload=\"this.contentDocument.open();this.contentDocument.write(atob(this.getAttribute('data-html')));this.contentDocument.close();\" allowfullscreen webkitallowfullscreen mozallowfullscreen></iframe></div></div>"
      ],
      "text/plain": [
       "<folium.folium.Map at 0x2c7233b5e48>"
      ]
     },
     "execution_count": 27,
     "metadata": {},
     "output_type": "execute_result"
    }
   ],
   "source": [
    "map_Scarborough = folium.Map(location=[latitude_x, longitude_y], zoom_start=10)\n",
    "\n",
    "for lat, lng, nei in zip(df_2['Latitude'], df_2['Longitude'], df_2['Neighborhood']):\n",
    "    \n",
    "    label = '{}'.format(nei)\n",
    "    label = folium.Popup(label, parse_html=True)\n",
    "    folium.CircleMarker(\n",
    "        [lat, lng],\n",
    "        radius=5,\n",
    "        popup=label,\n",
    "        color='blue',\n",
    "        fill=True,\n",
    "        fill_color='#3186cc',\n",
    "        fill_opacity=0.7,\n",
    "        parse_html=False).add_to(map_Scarborough)  \n",
    "    \n",
    "map_Scarborough"
   ]
  },
  {
   "cell_type": "code",
   "execution_count": 29,
   "metadata": {},
   "outputs": [
    {
     "name": "stdout",
     "output_type": "stream",
     "text": [
      "The Geograpical Co-ordinate of Neighborhood_1 are 43.773077, -79.257774.\n"
     ]
    }
   ],
   "source": [
    "address = 'Scarborough,Toronto'\n",
    "\n",
    "geolocator = Nominatim(user_agent=\"toronto_explorer\")\n",
    "location = geolocator.geocode(address)\n",
    "latitude_n1 = location.latitude\n",
    "longitude_n1 = location.longitude\n",
    "print('The Geograpical Co-ordinate of Neighborhood_1 are {}, {}.'.format(latitude_x, longitude_y))"
   ]
  },
  {
   "cell_type": "code",
   "execution_count": 30,
   "metadata": {},
   "outputs": [
    {
     "name": "stdout",
     "output_type": "stream",
     "text": [
      "Your credentails:\n",
      "CLIENT_ID: DPBYY4JUY3DU20ALPSUV4ONY2K1GOJJKJ1NIHBB32XEMOVYY\n",
      "CLIENT_SECRET: 1MV443TYEP4HUO0WDUW5NQ5W10L2Y4G05NWG11WIR3NUGC5B\n"
     ]
    }
   ],
   "source": [
    "CLIENT_ID = 'DPBYY4JUY3DU20ALPSUV4ONY2K1GOJJKJ1NIHBB32XEMOVYY' # my Foursquare ID\n",
    "CLIENT_SECRET = '1MV443TYEP4HUO0WDUW5NQ5W10L2Y4G05NWG11WIR3NUGC5B' # my Foursquare Secret\n",
    "VERSION = '20180604'\n",
    "LIMIT = 30\n",
    "print('Your credentails:')\n",
    "print('CLIENT_ID: '+CLIENT_ID)\n",
    "print('CLIENT_SECRET: '+CLIENT_SECRET)"
   ]
  },
  {
   "cell_type": "code",
   "execution_count": 31,
   "metadata": {},
   "outputs": [],
   "source": [
    "radius = 700 \n",
    "LIMIT = 100\n",
    "url = 'https://api.foursquare.com/v2/venues/explore?&client_id={}&client_secret={}&v={}&ll={},{}&radius={}&limit={}'.format(\n",
    "    CLIENT_ID, \n",
    "    CLIENT_SECRET, \n",
    "    VERSION, \n",
    "    latitude_n1, \n",
    "   longitude_n1, \n",
    "    radius, \n",
    "   LIMIT)\n",
    "results = requests.get(url).json()"
   ]
  },
  {
   "cell_type": "code",
   "execution_count": 32,
   "metadata": {},
   "outputs": [
    {
     "data": {
      "text/plain": [
       "Index(['reasons.count', 'reasons.items', 'referralId', 'venue.categories',\n",
       "       'venue.events.count', 'venue.events.summary', 'venue.id',\n",
       "       'venue.location.address', 'venue.location.cc', 'venue.location.city',\n",
       "       'venue.location.country', 'venue.location.crossStreet',\n",
       "       'venue.location.distance', 'venue.location.formattedAddress',\n",
       "       'venue.location.labeledLatLngs', 'venue.location.lat',\n",
       "       'venue.location.lng', 'venue.location.neighborhood',\n",
       "       'venue.location.postalCode', 'venue.location.state', 'venue.name',\n",
       "       'venue.photos.count', 'venue.photos.groups', 'venue.venuePage.id'],\n",
       "      dtype='object')"
      ]
     },
     "execution_count": 32,
     "metadata": {},
     "output_type": "execute_result"
    }
   ],
   "source": [
    "venues=results['response']['groups'][0]['items']\n",
    "nearby_venues = json_normalize(venues)\n",
    "nearby_venues.columns"
   ]
  },
  {
   "cell_type": "code",
   "execution_count": 33,
   "metadata": {},
   "outputs": [],
   "source": [
    "def get_category_type(row):\n",
    "    try:\n",
    "        categories_list = row['categories']\n",
    "    except:\n",
    "        categories_list = row['venue.categories']\n",
    "        \n",
    "    if len(categories_list) == 0:\n",
    "        return None\n",
    "    else:\n",
    "        return categories_list[0]['name']"
   ]
  },
  {
   "cell_type": "code",
   "execution_count": 34,
   "metadata": {},
   "outputs": [
    {
     "data": {
      "text/html": [
       "<div>\n",
       "<style scoped>\n",
       "    .dataframe tbody tr th:only-of-type {\n",
       "        vertical-align: middle;\n",
       "    }\n",
       "\n",
       "    .dataframe tbody tr th {\n",
       "        vertical-align: top;\n",
       "    }\n",
       "\n",
       "    .dataframe thead th {\n",
       "        text-align: right;\n",
       "    }\n",
       "</style>\n",
       "<table border=\"1\" class=\"dataframe\">\n",
       "  <thead>\n",
       "    <tr style=\"text-align: right;\">\n",
       "      <th></th>\n",
       "      <th>venue.name</th>\n",
       "      <th>venue.categories</th>\n",
       "      <th>venue.location.lat</th>\n",
       "      <th>venue.location.lng</th>\n",
       "    </tr>\n",
       "  </thead>\n",
       "  <tbody>\n",
       "    <tr>\n",
       "      <th>0</th>\n",
       "      <td>SEPHORA</td>\n",
       "      <td>[{'id': '4bf58dd8d48988d10c951735', 'name': 'C...</td>\n",
       "      <td>43.775017</td>\n",
       "      <td>-79.258109</td>\n",
       "    </tr>\n",
       "    <tr>\n",
       "      <th>1</th>\n",
       "      <td>Disney Store</td>\n",
       "      <td>[{'id': '4bf58dd8d48988d1f3941735', 'name': 'T...</td>\n",
       "      <td>43.775537</td>\n",
       "      <td>-79.256833</td>\n",
       "    </tr>\n",
       "    <tr>\n",
       "      <th>2</th>\n",
       "      <td>American Eagle Store</td>\n",
       "      <td>[{'id': '4bf58dd8d48988d103951735', 'name': 'C...</td>\n",
       "      <td>43.776012</td>\n",
       "      <td>-79.258334</td>\n",
       "    </tr>\n",
       "    <tr>\n",
       "      <th>3</th>\n",
       "      <td>DAVIDsTEA</td>\n",
       "      <td>[{'id': '4bf58dd8d48988d1dc931735', 'name': 'T...</td>\n",
       "      <td>43.776320</td>\n",
       "      <td>-79.258688</td>\n",
       "    </tr>\n",
       "    <tr>\n",
       "      <th>4</th>\n",
       "      <td>St. Andrews Fish &amp; Chips</td>\n",
       "      <td>[{'id': '4edd64a0c7ddd24ca188df1a', 'name': 'F...</td>\n",
       "      <td>43.771865</td>\n",
       "      <td>-79.252645</td>\n",
       "    </tr>\n",
       "  </tbody>\n",
       "</table>\n",
       "</div>"
      ],
      "text/plain": [
       "                 venue.name  \\\n",
       "0                   SEPHORA   \n",
       "1              Disney Store   \n",
       "2      American Eagle Store   \n",
       "3                 DAVIDsTEA   \n",
       "4  St. Andrews Fish & Chips   \n",
       "\n",
       "                                    venue.categories  venue.location.lat  \\\n",
       "0  [{'id': '4bf58dd8d48988d10c951735', 'name': 'C...           43.775017   \n",
       "1  [{'id': '4bf58dd8d48988d1f3941735', 'name': 'T...           43.775537   \n",
       "2  [{'id': '4bf58dd8d48988d103951735', 'name': 'C...           43.776012   \n",
       "3  [{'id': '4bf58dd8d48988d1dc931735', 'name': 'T...           43.776320   \n",
       "4  [{'id': '4edd64a0c7ddd24ca188df1a', 'name': 'F...           43.771865   \n",
       "\n",
       "   venue.location.lng  \n",
       "0          -79.258109  \n",
       "1          -79.256833  \n",
       "2          -79.258334  \n",
       "3          -79.258688  \n",
       "4          -79.252645  "
      ]
     },
     "execution_count": 34,
     "metadata": {},
     "output_type": "execute_result"
    }
   ],
   "source": [
    "filtered_columns = ['venue.name', 'venue.categories', 'venue.location.lat', 'venue.location.lng']\n",
    "nearby_venues =nearby_venues.loc[:, filtered_columns]\n",
    "nearby_venues.head()"
   ]
  },
  {
   "cell_type": "code",
   "execution_count": 35,
   "metadata": {},
   "outputs": [
    {
     "data": {
      "text/html": [
       "<div>\n",
       "<style scoped>\n",
       "    .dataframe tbody tr th:only-of-type {\n",
       "        vertical-align: middle;\n",
       "    }\n",
       "\n",
       "    .dataframe tbody tr th {\n",
       "        vertical-align: top;\n",
       "    }\n",
       "\n",
       "    .dataframe thead th {\n",
       "        text-align: right;\n",
       "    }\n",
       "</style>\n",
       "<table border=\"1\" class=\"dataframe\">\n",
       "  <thead>\n",
       "    <tr style=\"text-align: right;\">\n",
       "      <th></th>\n",
       "      <th>name</th>\n",
       "      <th>categories</th>\n",
       "      <th>lat</th>\n",
       "      <th>lng</th>\n",
       "    </tr>\n",
       "  </thead>\n",
       "  <tbody>\n",
       "    <tr>\n",
       "      <th>0</th>\n",
       "      <td>SEPHORA</td>\n",
       "      <td>Cosmetics Shop</td>\n",
       "      <td>43.775017</td>\n",
       "      <td>-79.258109</td>\n",
       "    </tr>\n",
       "    <tr>\n",
       "      <th>1</th>\n",
       "      <td>Disney Store</td>\n",
       "      <td>Toy / Game Store</td>\n",
       "      <td>43.775537</td>\n",
       "      <td>-79.256833</td>\n",
       "    </tr>\n",
       "    <tr>\n",
       "      <th>2</th>\n",
       "      <td>American Eagle Store</td>\n",
       "      <td>Clothing Store</td>\n",
       "      <td>43.776012</td>\n",
       "      <td>-79.258334</td>\n",
       "    </tr>\n",
       "    <tr>\n",
       "      <th>3</th>\n",
       "      <td>DAVIDsTEA</td>\n",
       "      <td>Tea Room</td>\n",
       "      <td>43.776320</td>\n",
       "      <td>-79.258688</td>\n",
       "    </tr>\n",
       "    <tr>\n",
       "      <th>4</th>\n",
       "      <td>St. Andrews Fish &amp; Chips</td>\n",
       "      <td>Fish &amp; Chips Shop</td>\n",
       "      <td>43.771865</td>\n",
       "      <td>-79.252645</td>\n",
       "    </tr>\n",
       "  </tbody>\n",
       "</table>\n",
       "</div>"
      ],
      "text/plain": [
       "                       name         categories        lat        lng\n",
       "0                   SEPHORA     Cosmetics Shop  43.775017 -79.258109\n",
       "1              Disney Store   Toy / Game Store  43.775537 -79.256833\n",
       "2      American Eagle Store     Clothing Store  43.776012 -79.258334\n",
       "3                 DAVIDsTEA           Tea Room  43.776320 -79.258688\n",
       "4  St. Andrews Fish & Chips  Fish & Chips Shop  43.771865 -79.252645"
      ]
     },
     "execution_count": 35,
     "metadata": {},
     "output_type": "execute_result"
    }
   ],
   "source": [
    "nearby_venues['venue.categories'] = nearby_venues.apply(get_category_type, axis=1)\n",
    "\n",
    "# clean columns\n",
    "nearby_venues.columns = [col.split(\".\")[-1] for col in nearby_venues.columns]\n",
    "\n",
    "nearby_venues.head(5)"
   ]
  },
  {
   "cell_type": "code",
   "execution_count": 36,
   "metadata": {},
   "outputs": [
    {
     "data": {
      "text/plain": [
       "Clothing Store         8\n",
       "Coffee Shop            5\n",
       "Restaurant             4\n",
       "Gas Station            2\n",
       "Sandwich Place         2\n",
       "Italian Restaurant     2\n",
       "Tea Room               2\n",
       "Pharmacy               2\n",
       "Cosmetics Shop         2\n",
       "American Restaurant    1\n",
       "Name: categories, dtype: int64"
      ]
     },
     "execution_count": 36,
     "metadata": {},
     "output_type": "execute_result"
    }
   ],
   "source": [
    "# Top 10 Categories\n",
    "a=pd.Series(nearby_venues.categories)\n",
    "a.value_counts()[:10]"
   ]
  },
  {
   "cell_type": "code",
   "execution_count": 42,
   "metadata": {},
   "outputs": [],
   "source": [
    "def getNearbyVenues(names, latitudes, longitudes, radius=700):\n",
    "    \n",
    "    venues_list=[]\n",
    "    for name, lat, lng in zip(names, latitudes, longitudes):\n",
    "        print(name)\n",
    "            \n",
    "        url = 'https://api.foursquare.com/v2/venues/explore?&client_id={}&client_secret={}&v={}&ll={},{}&radius={}&limit={}'.format(\n",
    "            CLIENT_ID, \n",
    "            CLIENT_SECRET, \n",
    "            VERSION, \n",
    "            lat, \n",
    "            lng, \n",
    "            radius, \n",
    "            LIMIT)\n",
    "            \n",
    "        # making GET request\n",
    "        venue_results = requests.get(url).json()[\"response\"]['groups'][0]['items']\n",
    "        \n",
    "        # return only relevant information for each nearby venue\n",
    "        venues_list.append([(\n",
    "            name, \n",
    "            lat, \n",
    "            lng, \n",
    "            v['venue']['name'], \n",
    "            v['venue']['location']['lat'], \n",
    "            v['venue']['location']['lng'],  \n",
    "            v['venue']['categories'][0]['name']) for v in venue_results])\n",
    "\n",
    "    nearby_venues = pd.DataFrame([item for venue_list in venues_list for item in venue_list])\n",
    "    nearby_venues.columns = ['Neighborhood', \n",
    "                  'Neighborhood Latitude', \n",
    "                  'Neighborhood Longitude', \n",
    "                  'Venue', \n",
    "                  'Venue Latitude', \n",
    "                  'Venue Longitude', \n",
    "                  'Venue Category']\n",
    "    \n",
    "    return(nearby_venues)"
   ]
  },
  {
   "cell_type": "code",
   "execution_count": 43,
   "metadata": {},
   "outputs": [
    {
     "name": "stdout",
     "output_type": "stream",
     "text": [
      "Not assigned\n",
      "\n"
     ]
    },
    {
     "ename": "ConnectionError",
     "evalue": "HTTPSConnectionPool(host='api.foursquare.com', port=443): Max retries exceeded with url: /v2/venues/explore?&client_id=DPBYY4JUY3DU20ALPSUV4ONY2K1GOJJKJ1NIHBB32XEMOVYY&client_secret=1MV443TYEP4HUO0WDUW5NQ5W10L2Y4G05NWG11WIR3NUGC5B&v=20180604&ll=43.648690000000045,-79.38543999999996&radius=700&limit=100 (Caused by NewConnectionError('<urllib3.connection.VerifiedHTTPSConnection object at 0x000002C7237F82E8>: Failed to establish a new connection: [WinError 10060] A connection attempt failed because the connected party did not properly respond after a period of time, or established connection failed because connected host has failed to respond',))",
     "output_type": "error",
     "traceback": [
      "\u001b[1;31m---------------------------------------------------------------------------\u001b[0m",
      "\u001b[1;31mTimeoutError\u001b[0m                              Traceback (most recent call last)",
      "\u001b[1;32mC:\\ProgramData\\Anaconda3\\lib\\site-packages\\urllib3\\connection.py\u001b[0m in \u001b[0;36m_new_conn\u001b[1;34m(self)\u001b[0m\n\u001b[0;32m    140\u001b[0m             conn = connection.create_connection(\n\u001b[1;32m--> 141\u001b[1;33m                 (self.host, self.port), self.timeout, **extra_kw)\n\u001b[0m\u001b[0;32m    142\u001b[0m \u001b[1;33m\u001b[0m\u001b[0m\n",
      "\u001b[1;32mC:\\ProgramData\\Anaconda3\\lib\\site-packages\\urllib3\\util\\connection.py\u001b[0m in \u001b[0;36mcreate_connection\u001b[1;34m(address, timeout, source_address, socket_options)\u001b[0m\n\u001b[0;32m     82\u001b[0m     \u001b[1;32mif\u001b[0m \u001b[0merr\u001b[0m \u001b[1;32mis\u001b[0m \u001b[1;32mnot\u001b[0m \u001b[1;32mNone\u001b[0m\u001b[1;33m:\u001b[0m\u001b[1;33m\u001b[0m\u001b[0m\n\u001b[1;32m---> 83\u001b[1;33m         \u001b[1;32mraise\u001b[0m \u001b[0merr\u001b[0m\u001b[1;33m\u001b[0m\u001b[0m\n\u001b[0m\u001b[0;32m     84\u001b[0m \u001b[1;33m\u001b[0m\u001b[0m\n",
      "\u001b[1;32mC:\\ProgramData\\Anaconda3\\lib\\site-packages\\urllib3\\util\\connection.py\u001b[0m in \u001b[0;36mcreate_connection\u001b[1;34m(address, timeout, source_address, socket_options)\u001b[0m\n\u001b[0;32m     72\u001b[0m                 \u001b[0msock\u001b[0m\u001b[1;33m.\u001b[0m\u001b[0mbind\u001b[0m\u001b[1;33m(\u001b[0m\u001b[0msource_address\u001b[0m\u001b[1;33m)\u001b[0m\u001b[1;33m\u001b[0m\u001b[0m\n\u001b[1;32m---> 73\u001b[1;33m             \u001b[0msock\u001b[0m\u001b[1;33m.\u001b[0m\u001b[0mconnect\u001b[0m\u001b[1;33m(\u001b[0m\u001b[0msa\u001b[0m\u001b[1;33m)\u001b[0m\u001b[1;33m\u001b[0m\u001b[0m\n\u001b[0m\u001b[0;32m     74\u001b[0m             \u001b[1;32mreturn\u001b[0m \u001b[0msock\u001b[0m\u001b[1;33m\u001b[0m\u001b[0m\n",
      "\u001b[1;31mTimeoutError\u001b[0m: [WinError 10060] A connection attempt failed because the connected party did not properly respond after a period of time, or established connection failed because connected host has failed to respond",
      "\nDuring handling of the above exception, another exception occurred:\n",
      "\u001b[1;31mNewConnectionError\u001b[0m                        Traceback (most recent call last)",
      "\u001b[1;32mC:\\ProgramData\\Anaconda3\\lib\\site-packages\\urllib3\\connectionpool.py\u001b[0m in \u001b[0;36murlopen\u001b[1;34m(self, method, url, body, headers, retries, redirect, assert_same_host, timeout, pool_timeout, release_conn, chunked, body_pos, **response_kw)\u001b[0m\n\u001b[0;32m    600\u001b[0m                                                   \u001b[0mbody\u001b[0m\u001b[1;33m=\u001b[0m\u001b[0mbody\u001b[0m\u001b[1;33m,\u001b[0m \u001b[0mheaders\u001b[0m\u001b[1;33m=\u001b[0m\u001b[0mheaders\u001b[0m\u001b[1;33m,\u001b[0m\u001b[1;33m\u001b[0m\u001b[0m\n\u001b[1;32m--> 601\u001b[1;33m                                                   chunked=chunked)\n\u001b[0m\u001b[0;32m    602\u001b[0m \u001b[1;33m\u001b[0m\u001b[0m\n",
      "\u001b[1;32mC:\\ProgramData\\Anaconda3\\lib\\site-packages\\urllib3\\connectionpool.py\u001b[0m in \u001b[0;36m_make_request\u001b[1;34m(self, conn, method, url, timeout, chunked, **httplib_request_kw)\u001b[0m\n\u001b[0;32m    345\u001b[0m         \u001b[1;32mtry\u001b[0m\u001b[1;33m:\u001b[0m\u001b[1;33m\u001b[0m\u001b[0m\n\u001b[1;32m--> 346\u001b[1;33m             \u001b[0mself\u001b[0m\u001b[1;33m.\u001b[0m\u001b[0m_validate_conn\u001b[0m\u001b[1;33m(\u001b[0m\u001b[0mconn\u001b[0m\u001b[1;33m)\u001b[0m\u001b[1;33m\u001b[0m\u001b[0m\n\u001b[0m\u001b[0;32m    347\u001b[0m         \u001b[1;32mexcept\u001b[0m \u001b[1;33m(\u001b[0m\u001b[0mSocketTimeout\u001b[0m\u001b[1;33m,\u001b[0m \u001b[0mBaseSSLError\u001b[0m\u001b[1;33m)\u001b[0m \u001b[1;32mas\u001b[0m \u001b[0me\u001b[0m\u001b[1;33m:\u001b[0m\u001b[1;33m\u001b[0m\u001b[0m\n",
      "\u001b[1;32mC:\\ProgramData\\Anaconda3\\lib\\site-packages\\urllib3\\connectionpool.py\u001b[0m in \u001b[0;36m_validate_conn\u001b[1;34m(self, conn)\u001b[0m\n\u001b[0;32m    849\u001b[0m         \u001b[1;32mif\u001b[0m \u001b[1;32mnot\u001b[0m \u001b[0mgetattr\u001b[0m\u001b[1;33m(\u001b[0m\u001b[0mconn\u001b[0m\u001b[1;33m,\u001b[0m \u001b[1;34m'sock'\u001b[0m\u001b[1;33m,\u001b[0m \u001b[1;32mNone\u001b[0m\u001b[1;33m)\u001b[0m\u001b[1;33m:\u001b[0m  \u001b[1;31m# AppEngine might not have  `.sock`\u001b[0m\u001b[1;33m\u001b[0m\u001b[0m\n\u001b[1;32m--> 850\u001b[1;33m             \u001b[0mconn\u001b[0m\u001b[1;33m.\u001b[0m\u001b[0mconnect\u001b[0m\u001b[1;33m(\u001b[0m\u001b[1;33m)\u001b[0m\u001b[1;33m\u001b[0m\u001b[0m\n\u001b[0m\u001b[0;32m    851\u001b[0m \u001b[1;33m\u001b[0m\u001b[0m\n",
      "\u001b[1;32mC:\\ProgramData\\Anaconda3\\lib\\site-packages\\urllib3\\connection.py\u001b[0m in \u001b[0;36mconnect\u001b[1;34m(self)\u001b[0m\n\u001b[0;32m    283\u001b[0m         \u001b[1;31m# Add certificate verification\u001b[0m\u001b[1;33m\u001b[0m\u001b[1;33m\u001b[0m\u001b[0m\n\u001b[1;32m--> 284\u001b[1;33m         \u001b[0mconn\u001b[0m \u001b[1;33m=\u001b[0m \u001b[0mself\u001b[0m\u001b[1;33m.\u001b[0m\u001b[0m_new_conn\u001b[0m\u001b[1;33m(\u001b[0m\u001b[1;33m)\u001b[0m\u001b[1;33m\u001b[0m\u001b[0m\n\u001b[0m\u001b[0;32m    285\u001b[0m \u001b[1;33m\u001b[0m\u001b[0m\n",
      "\u001b[1;32mC:\\ProgramData\\Anaconda3\\lib\\site-packages\\urllib3\\connection.py\u001b[0m in \u001b[0;36m_new_conn\u001b[1;34m(self)\u001b[0m\n\u001b[0;32m    149\u001b[0m             raise NewConnectionError(\n\u001b[1;32m--> 150\u001b[1;33m                 self, \"Failed to establish a new connection: %s\" % e)\n\u001b[0m\u001b[0;32m    151\u001b[0m \u001b[1;33m\u001b[0m\u001b[0m\n",
      "\u001b[1;31mNewConnectionError\u001b[0m: <urllib3.connection.VerifiedHTTPSConnection object at 0x000002C7237F82E8>: Failed to establish a new connection: [WinError 10060] A connection attempt failed because the connected party did not properly respond after a period of time, or established connection failed because connected host has failed to respond",
      "\nDuring handling of the above exception, another exception occurred:\n",
      "\u001b[1;31mMaxRetryError\u001b[0m                             Traceback (most recent call last)",
      "\u001b[1;32mC:\\ProgramData\\Anaconda3\\lib\\site-packages\\requests\\adapters.py\u001b[0m in \u001b[0;36msend\u001b[1;34m(self, request, stream, timeout, verify, cert, proxies)\u001b[0m\n\u001b[0;32m    439\u001b[0m                     \u001b[0mretries\u001b[0m\u001b[1;33m=\u001b[0m\u001b[0mself\u001b[0m\u001b[1;33m.\u001b[0m\u001b[0mmax_retries\u001b[0m\u001b[1;33m,\u001b[0m\u001b[1;33m\u001b[0m\u001b[0m\n\u001b[1;32m--> 440\u001b[1;33m                     \u001b[0mtimeout\u001b[0m\u001b[1;33m=\u001b[0m\u001b[0mtimeout\u001b[0m\u001b[1;33m\u001b[0m\u001b[0m\n\u001b[0m\u001b[0;32m    441\u001b[0m                 )\n",
      "\u001b[1;32mC:\\ProgramData\\Anaconda3\\lib\\site-packages\\urllib3\\connectionpool.py\u001b[0m in \u001b[0;36murlopen\u001b[1;34m(self, method, url, body, headers, retries, redirect, assert_same_host, timeout, pool_timeout, release_conn, chunked, body_pos, **response_kw)\u001b[0m\n\u001b[0;32m    638\u001b[0m             retries = retries.increment(method, url, error=e, _pool=self,\n\u001b[1;32m--> 639\u001b[1;33m                                         _stacktrace=sys.exc_info()[2])\n\u001b[0m\u001b[0;32m    640\u001b[0m             \u001b[0mretries\u001b[0m\u001b[1;33m.\u001b[0m\u001b[0msleep\u001b[0m\u001b[1;33m(\u001b[0m\u001b[1;33m)\u001b[0m\u001b[1;33m\u001b[0m\u001b[0m\n",
      "\u001b[1;32mC:\\ProgramData\\Anaconda3\\lib\\site-packages\\urllib3\\util\\retry.py\u001b[0m in \u001b[0;36mincrement\u001b[1;34m(self, method, url, response, error, _pool, _stacktrace)\u001b[0m\n\u001b[0;32m    387\u001b[0m         \u001b[1;32mif\u001b[0m \u001b[0mnew_retry\u001b[0m\u001b[1;33m.\u001b[0m\u001b[0mis_exhausted\u001b[0m\u001b[1;33m(\u001b[0m\u001b[1;33m)\u001b[0m\u001b[1;33m:\u001b[0m\u001b[1;33m\u001b[0m\u001b[0m\n\u001b[1;32m--> 388\u001b[1;33m             \u001b[1;32mraise\u001b[0m \u001b[0mMaxRetryError\u001b[0m\u001b[1;33m(\u001b[0m\u001b[0m_pool\u001b[0m\u001b[1;33m,\u001b[0m \u001b[0murl\u001b[0m\u001b[1;33m,\u001b[0m \u001b[0merror\u001b[0m \u001b[1;32mor\u001b[0m \u001b[0mResponseError\u001b[0m\u001b[1;33m(\u001b[0m\u001b[0mcause\u001b[0m\u001b[1;33m)\u001b[0m\u001b[1;33m)\u001b[0m\u001b[1;33m\u001b[0m\u001b[0m\n\u001b[0m\u001b[0;32m    389\u001b[0m \u001b[1;33m\u001b[0m\u001b[0m\n",
      "\u001b[1;31mMaxRetryError\u001b[0m: HTTPSConnectionPool(host='api.foursquare.com', port=443): Max retries exceeded with url: /v2/venues/explore?&client_id=DPBYY4JUY3DU20ALPSUV4ONY2K1GOJJKJ1NIHBB32XEMOVYY&client_secret=1MV443TYEP4HUO0WDUW5NQ5W10L2Y4G05NWG11WIR3NUGC5B&v=20180604&ll=43.648690000000045,-79.38543999999996&radius=700&limit=100 (Caused by NewConnectionError('<urllib3.connection.VerifiedHTTPSConnection object at 0x000002C7237F82E8>: Failed to establish a new connection: [WinError 10060] A connection attempt failed because the connected party did not properly respond after a period of time, or established connection failed because connected host has failed to respond',))",
      "\nDuring handling of the above exception, another exception occurred:\n",
      "\u001b[1;31mConnectionError\u001b[0m                           Traceback (most recent call last)",
      "\u001b[1;32m<ipython-input-43-c8233694a2dd>\u001b[0m in \u001b[0;36m<module>\u001b[1;34m()\u001b[0m\n\u001b[0;32m      2\u001b[0m Scarborough_venues = getNearbyVenues(names=df_2['Neighborhood'],\n\u001b[0;32m      3\u001b[0m                                    \u001b[0mlatitudes\u001b[0m\u001b[1;33m=\u001b[0m\u001b[0mdf_2\u001b[0m\u001b[1;33m[\u001b[0m\u001b[1;34m'Latitude'\u001b[0m\u001b[1;33m]\u001b[0m\u001b[1;33m,\u001b[0m\u001b[1;33m\u001b[0m\u001b[0m\n\u001b[1;32m----> 4\u001b[1;33m                                    \u001b[0mlongitudes\u001b[0m\u001b[1;33m=\u001b[0m\u001b[0mdf_2\u001b[0m\u001b[1;33m[\u001b[0m\u001b[1;34m'Longitude'\u001b[0m\u001b[1;33m]\u001b[0m\u001b[1;33m\u001b[0m\u001b[0m\n\u001b[0m\u001b[0;32m      5\u001b[0m                                   )\n",
      "\u001b[1;32m<ipython-input-42-4cefc429cb06>\u001b[0m in \u001b[0;36mgetNearbyVenues\u001b[1;34m(names, latitudes, longitudes, radius)\u001b[0m\n\u001b[0;32m     15\u001b[0m \u001b[1;33m\u001b[0m\u001b[0m\n\u001b[0;32m     16\u001b[0m         \u001b[1;31m# making GET request\u001b[0m\u001b[1;33m\u001b[0m\u001b[1;33m\u001b[0m\u001b[0m\n\u001b[1;32m---> 17\u001b[1;33m         \u001b[0mvenue_results\u001b[0m \u001b[1;33m=\u001b[0m \u001b[0mrequests\u001b[0m\u001b[1;33m.\u001b[0m\u001b[0mget\u001b[0m\u001b[1;33m(\u001b[0m\u001b[0murl\u001b[0m\u001b[1;33m)\u001b[0m\u001b[1;33m.\u001b[0m\u001b[0mjson\u001b[0m\u001b[1;33m(\u001b[0m\u001b[1;33m)\u001b[0m\u001b[1;33m[\u001b[0m\u001b[1;34m\"response\"\u001b[0m\u001b[1;33m]\u001b[0m\u001b[1;33m[\u001b[0m\u001b[1;34m'groups'\u001b[0m\u001b[1;33m]\u001b[0m\u001b[1;33m[\u001b[0m\u001b[1;36m0\u001b[0m\u001b[1;33m]\u001b[0m\u001b[1;33m[\u001b[0m\u001b[1;34m'items'\u001b[0m\u001b[1;33m]\u001b[0m\u001b[1;33m\u001b[0m\u001b[0m\n\u001b[0m\u001b[0;32m     18\u001b[0m \u001b[1;33m\u001b[0m\u001b[0m\n\u001b[0;32m     19\u001b[0m         \u001b[1;31m# return only relevant information for each nearby venue\u001b[0m\u001b[1;33m\u001b[0m\u001b[1;33m\u001b[0m\u001b[0m\n",
      "\u001b[1;32mC:\\ProgramData\\Anaconda3\\lib\\site-packages\\requests\\api.py\u001b[0m in \u001b[0;36mget\u001b[1;34m(url, params, **kwargs)\u001b[0m\n\u001b[0;32m     70\u001b[0m \u001b[1;33m\u001b[0m\u001b[0m\n\u001b[0;32m     71\u001b[0m     \u001b[0mkwargs\u001b[0m\u001b[1;33m.\u001b[0m\u001b[0msetdefault\u001b[0m\u001b[1;33m(\u001b[0m\u001b[1;34m'allow_redirects'\u001b[0m\u001b[1;33m,\u001b[0m \u001b[1;32mTrue\u001b[0m\u001b[1;33m)\u001b[0m\u001b[1;33m\u001b[0m\u001b[0m\n\u001b[1;32m---> 72\u001b[1;33m     \u001b[1;32mreturn\u001b[0m \u001b[0mrequest\u001b[0m\u001b[1;33m(\u001b[0m\u001b[1;34m'get'\u001b[0m\u001b[1;33m,\u001b[0m \u001b[0murl\u001b[0m\u001b[1;33m,\u001b[0m \u001b[0mparams\u001b[0m\u001b[1;33m=\u001b[0m\u001b[0mparams\u001b[0m\u001b[1;33m,\u001b[0m \u001b[1;33m**\u001b[0m\u001b[0mkwargs\u001b[0m\u001b[1;33m)\u001b[0m\u001b[1;33m\u001b[0m\u001b[0m\n\u001b[0m\u001b[0;32m     73\u001b[0m \u001b[1;33m\u001b[0m\u001b[0m\n\u001b[0;32m     74\u001b[0m \u001b[1;33m\u001b[0m\u001b[0m\n",
      "\u001b[1;32mC:\\ProgramData\\Anaconda3\\lib\\site-packages\\requests\\api.py\u001b[0m in \u001b[0;36mrequest\u001b[1;34m(method, url, **kwargs)\u001b[0m\n\u001b[0;32m     56\u001b[0m     \u001b[1;31m# cases, and look like a memory leak in others.\u001b[0m\u001b[1;33m\u001b[0m\u001b[1;33m\u001b[0m\u001b[0m\n\u001b[0;32m     57\u001b[0m     \u001b[1;32mwith\u001b[0m \u001b[0msessions\u001b[0m\u001b[1;33m.\u001b[0m\u001b[0mSession\u001b[0m\u001b[1;33m(\u001b[0m\u001b[1;33m)\u001b[0m \u001b[1;32mas\u001b[0m \u001b[0msession\u001b[0m\u001b[1;33m:\u001b[0m\u001b[1;33m\u001b[0m\u001b[0m\n\u001b[1;32m---> 58\u001b[1;33m         \u001b[1;32mreturn\u001b[0m \u001b[0msession\u001b[0m\u001b[1;33m.\u001b[0m\u001b[0mrequest\u001b[0m\u001b[1;33m(\u001b[0m\u001b[0mmethod\u001b[0m\u001b[1;33m=\u001b[0m\u001b[0mmethod\u001b[0m\u001b[1;33m,\u001b[0m \u001b[0murl\u001b[0m\u001b[1;33m=\u001b[0m\u001b[0murl\u001b[0m\u001b[1;33m,\u001b[0m \u001b[1;33m**\u001b[0m\u001b[0mkwargs\u001b[0m\u001b[1;33m)\u001b[0m\u001b[1;33m\u001b[0m\u001b[0m\n\u001b[0m\u001b[0;32m     59\u001b[0m \u001b[1;33m\u001b[0m\u001b[0m\n\u001b[0;32m     60\u001b[0m \u001b[1;33m\u001b[0m\u001b[0m\n",
      "\u001b[1;32mC:\\ProgramData\\Anaconda3\\lib\\site-packages\\requests\\sessions.py\u001b[0m in \u001b[0;36mrequest\u001b[1;34m(self, method, url, params, data, headers, cookies, files, auth, timeout, allow_redirects, proxies, hooks, stream, verify, cert, json)\u001b[0m\n\u001b[0;32m    506\u001b[0m         }\n\u001b[0;32m    507\u001b[0m         \u001b[0msend_kwargs\u001b[0m\u001b[1;33m.\u001b[0m\u001b[0mupdate\u001b[0m\u001b[1;33m(\u001b[0m\u001b[0msettings\u001b[0m\u001b[1;33m)\u001b[0m\u001b[1;33m\u001b[0m\u001b[0m\n\u001b[1;32m--> 508\u001b[1;33m         \u001b[0mresp\u001b[0m \u001b[1;33m=\u001b[0m \u001b[0mself\u001b[0m\u001b[1;33m.\u001b[0m\u001b[0msend\u001b[0m\u001b[1;33m(\u001b[0m\u001b[0mprep\u001b[0m\u001b[1;33m,\u001b[0m \u001b[1;33m**\u001b[0m\u001b[0msend_kwargs\u001b[0m\u001b[1;33m)\u001b[0m\u001b[1;33m\u001b[0m\u001b[0m\n\u001b[0m\u001b[0;32m    509\u001b[0m \u001b[1;33m\u001b[0m\u001b[0m\n\u001b[0;32m    510\u001b[0m         \u001b[1;32mreturn\u001b[0m \u001b[0mresp\u001b[0m\u001b[1;33m\u001b[0m\u001b[0m\n",
      "\u001b[1;32mC:\\ProgramData\\Anaconda3\\lib\\site-packages\\requests\\sessions.py\u001b[0m in \u001b[0;36msend\u001b[1;34m(self, request, **kwargs)\u001b[0m\n\u001b[0;32m    616\u001b[0m \u001b[1;33m\u001b[0m\u001b[0m\n\u001b[0;32m    617\u001b[0m         \u001b[1;31m# Send the request\u001b[0m\u001b[1;33m\u001b[0m\u001b[1;33m\u001b[0m\u001b[0m\n\u001b[1;32m--> 618\u001b[1;33m         \u001b[0mr\u001b[0m \u001b[1;33m=\u001b[0m \u001b[0madapter\u001b[0m\u001b[1;33m.\u001b[0m\u001b[0msend\u001b[0m\u001b[1;33m(\u001b[0m\u001b[0mrequest\u001b[0m\u001b[1;33m,\u001b[0m \u001b[1;33m**\u001b[0m\u001b[0mkwargs\u001b[0m\u001b[1;33m)\u001b[0m\u001b[1;33m\u001b[0m\u001b[0m\n\u001b[0m\u001b[0;32m    619\u001b[0m \u001b[1;33m\u001b[0m\u001b[0m\n\u001b[0;32m    620\u001b[0m         \u001b[1;31m# Total elapsed time of the request (approximately)\u001b[0m\u001b[1;33m\u001b[0m\u001b[1;33m\u001b[0m\u001b[0m\n",
      "\u001b[1;32mC:\\ProgramData\\Anaconda3\\lib\\site-packages\\requests\\adapters.py\u001b[0m in \u001b[0;36msend\u001b[1;34m(self, request, stream, timeout, verify, cert, proxies)\u001b[0m\n\u001b[0;32m    506\u001b[0m                 \u001b[1;32mraise\u001b[0m \u001b[0mSSLError\u001b[0m\u001b[1;33m(\u001b[0m\u001b[0me\u001b[0m\u001b[1;33m,\u001b[0m \u001b[0mrequest\u001b[0m\u001b[1;33m=\u001b[0m\u001b[0mrequest\u001b[0m\u001b[1;33m)\u001b[0m\u001b[1;33m\u001b[0m\u001b[0m\n\u001b[0;32m    507\u001b[0m \u001b[1;33m\u001b[0m\u001b[0m\n\u001b[1;32m--> 508\u001b[1;33m             \u001b[1;32mraise\u001b[0m \u001b[0mConnectionError\u001b[0m\u001b[1;33m(\u001b[0m\u001b[0me\u001b[0m\u001b[1;33m,\u001b[0m \u001b[0mrequest\u001b[0m\u001b[1;33m=\u001b[0m\u001b[0mrequest\u001b[0m\u001b[1;33m)\u001b[0m\u001b[1;33m\u001b[0m\u001b[0m\n\u001b[0m\u001b[0;32m    509\u001b[0m \u001b[1;33m\u001b[0m\u001b[0m\n\u001b[0;32m    510\u001b[0m         \u001b[1;32mexcept\u001b[0m \u001b[0mClosedPoolError\u001b[0m \u001b[1;32mas\u001b[0m \u001b[0me\u001b[0m\u001b[1;33m:\u001b[0m\u001b[1;33m\u001b[0m\u001b[0m\n",
      "\u001b[1;31mConnectionError\u001b[0m: HTTPSConnectionPool(host='api.foursquare.com', port=443): Max retries exceeded with url: /v2/venues/explore?&client_id=DPBYY4JUY3DU20ALPSUV4ONY2K1GOJJKJ1NIHBB32XEMOVYY&client_secret=1MV443TYEP4HUO0WDUW5NQ5W10L2Y4G05NWG11WIR3NUGC5B&v=20180604&ll=43.648690000000045,-79.38543999999996&radius=700&limit=100 (Caused by NewConnectionError('<urllib3.connection.VerifiedHTTPSConnection object at 0x000002C7237F82E8>: Failed to establish a new connection: [WinError 10060] A connection attempt failed because the connected party did not properly respond after a period of time, or established connection failed because connected host has failed to respond',))"
     ]
    }
   ],
   "source": [
    "# Nearby Venues\n",
    "Scarborough_venues = getNearbyVenues(names=df_2['Neighborhood'],\n",
    "                                   latitudes=df_2['Latitude'],\n",
    "                                   longitudes=df_2['Longitude']\n",
    "                                  )"
   ]
  },
  {
   "cell_type": "code",
   "execution_count": 41,
   "metadata": {},
   "outputs": [
    {
     "ename": "NameError",
     "evalue": "name 'Scarborough_venues' is not defined",
     "output_type": "error",
     "traceback": [
      "\u001b[1;31m---------------------------------------------------------------------------\u001b[0m",
      "\u001b[1;31mNameError\u001b[0m                                 Traceback (most recent call last)",
      "\u001b[1;32m<ipython-input-41-3399c4e66d67>\u001b[0m in \u001b[0;36m<module>\u001b[1;34m()\u001b[0m\n\u001b[1;32m----> 1\u001b[1;33m \u001b[0mprint\u001b[0m\u001b[1;33m(\u001b[0m\u001b[1;34m'There are {} Uniques Categories.'\u001b[0m\u001b[1;33m.\u001b[0m\u001b[0mformat\u001b[0m\u001b[1;33m(\u001b[0m\u001b[0mlen\u001b[0m\u001b[1;33m(\u001b[0m\u001b[0mScarborough_venues\u001b[0m\u001b[1;33m[\u001b[0m\u001b[1;34m'Venue Category'\u001b[0m\u001b[1;33m]\u001b[0m\u001b[1;33m.\u001b[0m\u001b[0munique\u001b[0m\u001b[1;33m(\u001b[0m\u001b[1;33m)\u001b[0m\u001b[1;33m)\u001b[0m\u001b[1;33m)\u001b[0m\u001b[1;33m)\u001b[0m\u001b[1;33m\u001b[0m\u001b[0m\n\u001b[0m\u001b[0;32m      2\u001b[0m \u001b[0mScarborough_venues\u001b[0m\u001b[1;33m.\u001b[0m\u001b[0mgroupby\u001b[0m\u001b[1;33m(\u001b[0m\u001b[1;34m'Neighborhood'\u001b[0m\u001b[1;33m)\u001b[0m\u001b[1;33m.\u001b[0m\u001b[0mcount\u001b[0m\u001b[1;33m(\u001b[0m\u001b[1;33m)\u001b[0m\u001b[1;33m.\u001b[0m\u001b[0mhead\u001b[0m\u001b[1;33m(\u001b[0m\u001b[1;33m)\u001b[0m\u001b[1;33m\u001b[0m\u001b[0m\n",
      "\u001b[1;31mNameError\u001b[0m: name 'Scarborough_venues' is not defined"
     ]
    }
   ],
   "source": [
    "print('There are {} Uniques Categories.'.format(len(Scarborough_venues['Venue Category'].unique())))\n",
    "Scarborough_venues.groupby('Neighborhood').count().head()"
   ]
  },
  {
   "cell_type": "code",
   "execution_count": null,
   "metadata": {},
   "outputs": [],
   "source": [
    "# one hot encoding\n",
    "Scarborough_onehot = pd.get_dummies(Scarborough_venues[['Venue Category']], prefix=\"\", prefix_sep=\"\")\n",
    "\n",
    "# add neighborhood column back to dataframe\n",
    "Scarborough_onehot['Neighborhood'] = Scarborough_venues['Neighborhood'] \n",
    "\n",
    "# move neighborhood column to the first column\n",
    "fixed_columns = [Scarborough_onehot.columns[-1]] + list(Scarborough_onehot.columns[:-1])\n",
    "Scarborough_onehot = Scarborough_onehot[fixed_columns]\n",
    "Scarborough_grouped = Scarborough_onehot.groupby('Neighborhood').mean().reset_index()\n",
    "Scarborough_onehot.head(5)"
   ]
  },
  {
   "cell_type": "code",
   "execution_count": null,
   "metadata": {},
   "outputs": [],
   "source": [
    "num_top_venues = 5\n",
    "for hood in Scarborough_grouped['Neighborhood']:\n",
    "    print(\"---- \"+hood+\" ----\")\n",
    "    temp =Scarborough_grouped[Scarborough_grouped['Neighborhood'] == hood].T.reset_index()\n",
    "    temp.columns = ['venue','freq']\n",
    "    temp = temp.iloc[1:]\n",
    "    temp['freq'] = temp['freq'].astype(float)\n",
    "    temp = temp.round({'freq': 2})\n",
    "    print(temp.sort_values('freq', ascending=False).reset_index(drop=True).head(num_top_venues))\n",
    "    print('\\n')"
   ]
  },
  {
   "cell_type": "code",
   "execution_count": null,
   "metadata": {},
   "outputs": [],
   "source": [
    "def return_most_common_venues(row, num_top_venues):\n",
    "    row_categories = row.iloc[1:]\n",
    "    row_categories_sorted = row_categories.sort_values(ascending=False)\n",
    "    \n",
    "    return row_categories_sorted.index.values[0:num_top_venues]"
   ]
  },
  {
   "cell_type": "code",
   "execution_count": null,
   "metadata": {},
   "outputs": [],
   "source": [
    "import numpy as np\n",
    "num_top_venues = 10\n",
    "\n",
    "indicators = ['st', 'nd', 'rd']\n",
    "\n",
    "columns = ['Neighborhood']\n",
    "for ind in np.arange(num_top_venues):\n",
    "    try:\n",
    "        columns.append('{}{} Most Common Venue'.format(ind+1, indicators[ind]))\n",
    "    except:\n",
    "        columns.append('{}th Most Common Venue'.format(ind+1))\n",
    "\n",
    "neighborhoods_venues_sorted = pd.DataFrame(columns=columns)\n",
    "neighborhoods_venues_sorted['Neighborhood'] = Scarborough_grouped['Neighborhood']\n",
    "\n",
    "for ind in np.arange(Scarborough_grouped.shape[0]):\n",
    "    neighborhoods_venues_sorted.iloc[ind, 1:] = return_most_common_venues(Scarborough_grouped.iloc[ind, :], num_top_venues)\n",
    "\n",
    "neighborhoods_venues_sorted.head()"
   ]
  },
  {
   "cell_type": "code",
   "execution_count": null,
   "metadata": {},
   "outputs": [],
   "source": [
    "# Using K-Means to cluster neighborhood into 3 clusters\n",
    "Scarborough_grouped_clustering = Scarborough_grouped.drop('Neighborhood', 1)\n",
    "kmeans = KMeans(n_clusters=3, random_state=0).fit(Scarborough_grouped_clustering)\n",
    "kmeans.labels_"
   ]
  },
  {
   "cell_type": "code",
   "execution_count": null,
   "metadata": {},
   "outputs": [],
   "source": [
    "\n",
    "neighborhoods_venues_sorted.insert(0, 'Cluster Labels', kmeans.labels_)\n",
    "\n",
    "Scarborough_merged =df_2.iloc[:16,:]\n",
    "\n",
    "# merge toronto_grouped with toronto_data to add latitude/longitude for each neighborhood\n",
    "Scarborough_merged = Scarborough_merged.join(neighborhoods_venues_sorted.set_index('Neighborhood'), on='Neighborhood')\n",
    "\n",
    "Scarborough_merged.head()# check the last columns!"
   ]
  },
  {
   "cell_type": "code",
   "execution_count": null,
   "metadata": {},
   "outputs": [],
   "source": [
    "kclusters = 10"
   ]
  },
  {
   "cell_type": "code",
   "execution_count": null,
   "metadata": {},
   "outputs": [],
   "source": [
    "# create map\n",
    "map_clusters = folium.Map(location=[latitude_x, longitude_y], zoom_start=11)\n",
    "\n",
    "# set color scheme for the clusters\n",
    "x = np.arange(kclusters)\n",
    "colors_array = cm.rainbow(np.linspace(0, 1, kclusters))\n",
    "rainbow = [colors.rgb2hex(i) for i in colors_array]\n",
    "print(rainbow)\n",
    "# add markers to the map\n",
    "\n",
    "markers_colors = []\n",
    "for lat, lon, nei , cluster in zip(Scarborough_merged['Latitude'], \n",
    "                                   Scarborough_merged['Longitude'], \n",
    "                                   Scarborough_merged['Neighborhood'], \n",
    "                                   Scarborough_merged['Cluster Labels']):\n",
    "    label = folium.Popup(str(nei) + ' Cluster ' + str(cluster), parse_html=True)\n",
    "    folium.CircleMarker(\n",
    "        [lat, lon],\n",
    "        radius=5,\n",
    "        popup=label,\n",
    "        color=rainbow[cluster-1],\n",
    "        fill=True,\n",
    "        fill_color=rainbow[cluster-1],\n",
    "        fill_opacity=0.7).add_to(map_clusters)\n",
    "       \n",
    "map_clusters"
   ]
  },
  {
   "cell_type": "code",
   "execution_count": null,
   "metadata": {},
   "outputs": [],
   "source": [
    "df1=Scarborough_merged.loc[Scarborough_merged['Cluster Labels'] == 0,Scarborough_merged.columns[[2] + list(range(5, Scarborough_merged.shape[1]))]]\n",
    "df2=Scarborough_merged.loc[Scarborough_merged['Cluster Labels'] == 1,Scarborough_merged.columns[[2] + list(range(5, Scarborough_merged.shape[1]))]]\n",
    "df3=Scarborough_merged.loc[Scarborough_merged['Cluster Labels'] == 2,Scarborough_merged.columns[[2] + list(range(5, Scarborough_merged.shape[1]))]]"
   ]
  },
  {
   "cell_type": "code",
   "execution_count": null,
   "metadata": {},
   "outputs": [],
   "source": [
    "Scarborough_Avg_HousingPrice=pd.DataFrame({\"Neighborhood\":df_2[\"Neighborhood\"],\n",
    "                                      \"Average_Housing_Price\":[335000.0,286600.0,175000.0,225900.0,219400.0,\n",
    "                                                               573900.0,225000.0,370500.0,370500.0,433500.0,279200.0,\n",
    "                                                               279200.0,225000.0,370500.,255400.0,433500.0,433500.0,\n",
    "                                                               435000.0,289500.0,265000.0,285900.0,239400.0,\n",
    "                                                               589900.0,295000.0,380500.0,378500.0,438500.0,229200.0,\n",
    "                                                               229200.0,365000.0,388500.,285400.0,493500.0,477500.0,378000.0,316600.0,195000.0,225900.0,219400.0,\n",
    "                                                               573900.0,367000.0,370500.0,370500.0,363500.0,279200.0,\n",
    "                                                               279200.0,271000.0,370500.,255400.0,383500.0,433500.0,335000.0,286600.0,185000.0,225900.0,219400.0,\n",
    "                                                               573900.0,329000.0,370500.0,370500.0,533500.0,279200.0,\n",
    "                                                               279200.0,375000.0,370500.,255400.0,493500.0,433500.0,335000.0,286600.0,165000.0,225900.0,219400.0,\n",
    "                                                               573900.0,425000.0,370500.0,370500.0,433500.0,279200.0,\n",
    "                                                               279200.0,195000.0,370500.,255400.0,403500.0,433500.0,335000.0,286600.0,187000.0,225900.0,219400.0,\n",
    "                                                               573900.0,325000.0,370500.0,370500.0,333500.0,279200.0,\n",
    "                                                               279200.0,289000.0,370500.,255400.0,413500.0,433500.0,254800.0\n",
    "                                                              \n",
    "                                                              \n",
    "                                                              ]})"
   ]
  },
  {
   "cell_type": "code",
   "execution_count": null,
   "metadata": {},
   "outputs": [],
   "source": [
    "Scarborough_Avg_HousingPrice.set_index('Neighborhood',inplace=True,drop=True)"
   ]
  },
  {
   "cell_type": "code",
   "execution_count": null,
   "metadata": {},
   "outputs": [],
   "source": [
    "Scarborough_Avg_HousingPrice.plot(kind='bar',figsize=(24,18),alpha=0.75)"
   ]
  },
  {
   "cell_type": "code",
   "execution_count": null,
   "metadata": {},
   "outputs": [],
   "source": [
    "clusters=pd.DataFrame({\"Cluster1\":df1[\"Neighborhood\"],\n",
    "                      \"Cluster2\":df2[\"Neighborhood\"],\n",
    "                      \"Cluster4\":df3[\"Neighborhood\"]})\n",
    "clusters = clusters.replace(np.nan, '', regex=True)"
   ]
  },
  {
   "cell_type": "code",
   "execution_count": null,
   "metadata": {},
   "outputs": [],
   "source": [
    "new_Scarborough=Scarborough_merged.set_index(\"Neighborhood\",drop=True)\n",
    "#Source:https://www.greatschools.org\n",
    "Scarborough_school_ratings=pd.DataFrame({\"Neighborhood\":df[\"Neighborhood\"],\n",
    "                                      \"Top School Rating\":[7,9,5,8,10,10,7,10,1,2,1,2,7,2,3,2,6,\n",
    "                                                           5,4,8,9,9,6,6,4,5,4,6,8,10,8,9,6,2,\n",
    "                                                           10,2,5,8,9,6,6,10,8,9,1,2,3,4,5,6,9,\n",
    "                                                           8,5,9,6,9,6,4,8,10,2,5,6,3,9,8,7,\n",
    "                                                           7,8,5,8,9,1,5,4,7,2,3,6,6,9,4,8,7,\n",
    "                                                           4,8,9,2,6,4,7,5,10,4,6,8,9,7,5,6,5,8,7\n",
    "                                                           ]})"
   ]
  },
  {
   "cell_type": "code",
   "execution_count": null,
   "metadata": {},
   "outputs": [],
   "source": [
    "Scarborough_school_ratings.set_index('Neighborhood',inplace=True,drop=True)"
   ]
  },
  {
   "cell_type": "code",
   "execution_count": null,
   "metadata": {},
   "outputs": [],
   "source": [
    "Scarborough_school_ratings.plot(kind='bar',figsize=(16,10),color='green',alpha=0.75);"
   ]
  },
  {
   "cell_type": "markdown",
   "metadata": {},
   "source": [
    "Conclusion: In this project, using k-means cluster algorithm I separated the neighborhood into 10(Ten) different clusters and for 103 different lattitude and logitude from dataset, which have very-similar neighborhoods around them. Using the charts above results presented to a particular neighborhood based on average house prices and school rating have been made."
   ]
  },
  {
   "cell_type": "code",
   "execution_count": null,
   "metadata": {},
   "outputs": [],
   "source": []
  },
  {
   "cell_type": "code",
   "execution_count": null,
   "metadata": {},
   "outputs": [],
   "source": []
  },
  {
   "cell_type": "code",
   "execution_count": null,
   "metadata": {},
   "outputs": [],
   "source": []
  }
 ],
 "metadata": {
  "kernelspec": {
   "display_name": "Python 3",
   "language": "python",
   "name": "python3"
  },
  "language_info": {
   "codemirror_mode": {
    "name": "ipython",
    "version": 3
   },
   "file_extension": ".py",
   "mimetype": "text/x-python",
   "name": "python",
   "nbconvert_exporter": "python",
   "pygments_lexer": "ipython3",
   "version": "3.6.4"
  }
 },
 "nbformat": 4,
 "nbformat_minor": 2
}
